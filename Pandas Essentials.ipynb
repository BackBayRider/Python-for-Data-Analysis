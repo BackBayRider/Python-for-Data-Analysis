{
 "cells": [
  {
   "cell_type": "markdown",
   "metadata": {},
   "source": [
    "# Pandas Essentials\n",
    "This workshop is about learning by practice and application\n",
    "\n",
    "## Learning Outcomes\n",
    "1. Introduction to data structures\n",
    "   * Series\n",
    "   * DataFrame\n",
    "   * Panel\n",
    "2. Getting started\n",
    "   * Essential basic functionality\n",
    "   * Indexing & selecting data\n",
    "   * Computational tools\n",
    "   * Working with missing data\n",
    "3. Data loading\n",
    "   * Input / Output\n",
    "4. Data wrangling\n",
    "   * Merge, join & concatenate\n",
    "5. Plotting & visualisation\n",
    "6. Examples"
   ]
  },
  {
   "cell_type": "markdown",
   "metadata": {},
   "source": [
    "Ensure you have [pandas-datareader](https://github.com/pydata/pandas-datareader) installed. If not use pip\n",
    "\n",
    "`$ pip install pandas-datareader`"
   ]
  },
  {
   "cell_type": "code",
   "execution_count": 1,
   "metadata": {
    "collapsed": false
   },
   "outputs": [],
   "source": [
    "import warnings\n",
    "warnings.filterwarnings('ignore')\n",
    "import numpy as np\n",
    "import pandas as pd\n",
    "import pandas_datareader.data as web\n",
    "import datetime"
   ]
  },
  {
   "cell_type": "markdown",
   "metadata": {},
   "source": [
    "**Download** the stock data from `yahoo`. **[Learning Outcomes - I/O]**"
   ]
  },
  {
   "cell_type": "code",
   "execution_count": 2,
   "metadata": {
    "collapsed": true
   },
   "outputs": [],
   "source": [
    "dat = web.DataReader([\"AAPL\", \"AMZN\", \"GLD\", \"IWM\", \"SPY\", \"VXX\"],\n",
    "                     \"yahoo\",\n",
    "                      start=datetime.datetime(2007, 1, 1), \n",
    "                      end=datetime.datetime(2010, 1, 1))"
   ]
  },
  {
   "cell_type": "code",
   "execution_count": 3,
   "metadata": {
    "collapsed": false
   },
   "outputs": [
    {
     "data": {
      "text/plain": [
       "<class 'pandas.core.panel.Panel'>\n",
       "Dimensions: 6 (items) x 756 (major_axis) x 6 (minor_axis)\n",
       "Items axis: Open to Adj Close\n",
       "Major_axis axis: 2007-01-03 00:00:00 to 2009-12-31 00:00:00\n",
       "Minor_axis axis: AAPL to VXX"
      ]
     },
     "execution_count": 3,
     "metadata": {},
     "output_type": "execute_result"
    }
   ],
   "source": [
    "dat"
   ]
  },
  {
   "cell_type": "markdown",
   "metadata": {},
   "source": [
    "Note that this is a panel, a 3D structure within pandas. \n",
    "\n",
    "The dimensions are 6 Items axis (Open, high, low...) x 316 Major axis (# of days of stock data) x 6 minor axis (AAPL, AMZN,...). \n",
    "\n",
    "Pandas provides 3 core types of data structure - `Series, DataFrame and Panel`. **[Learning Outcomes - Data Structure]**"
   ]
  },
  {
   "cell_type": "code",
   "execution_count": 4,
   "metadata": {
    "collapsed": false
   },
   "outputs": [],
   "source": [
    "# Save the data in csv format for future use\n",
    "for o in dat.minor_axis:\n",
    "    fname = \"data/\" + o + \".csv\"\n",
    "    dat[:,:,o].to_csv(fname)"
   ]
  },
  {
   "cell_type": "code",
   "execution_count": 5,
   "metadata": {
    "collapsed": true
   },
   "outputs": [],
   "source": [
    "# or in excel format\n",
    "for o in dat.minor_axis:\n",
    "    fname = \"data/\" + o + \".xlsx\"\n",
    "    dat[:,:,o].to_excel(fname)"
   ]
  },
  {
   "cell_type": "code",
   "execution_count": 6,
   "metadata": {
    "collapsed": true
   },
   "outputs": [],
   "source": [
    "aapl = dat[:,:,\"AAPL\"]"
   ]
  },
  {
   "cell_type": "markdown",
   "metadata": {},
   "source": [
    "This is called **slicing**. `:` means select all data. We chose to retain all the data for the `Items` and `Major` axis and select only `AAPL` for the `Minor axis`."
   ]
  },
  {
   "cell_type": "code",
   "execution_count": 7,
   "metadata": {
    "collapsed": false
   },
   "outputs": [
    {
     "data": {
      "text/html": [
       "<div>\n",
       "<table border=\"1\" class=\"dataframe\">\n",
       "  <thead>\n",
       "    <tr style=\"text-align: right;\">\n",
       "      <th></th>\n",
       "      <th>Open</th>\n",
       "      <th>High</th>\n",
       "      <th>Low</th>\n",
       "      <th>Close</th>\n",
       "      <th>Volume</th>\n",
       "      <th>Adj Close</th>\n",
       "    </tr>\n",
       "    <tr>\n",
       "      <th>Date</th>\n",
       "      <th></th>\n",
       "      <th></th>\n",
       "      <th></th>\n",
       "      <th></th>\n",
       "      <th></th>\n",
       "      <th></th>\n",
       "    </tr>\n",
       "  </thead>\n",
       "  <tbody>\n",
       "    <tr>\n",
       "      <th>2007-01-03</th>\n",
       "      <td>86.289999</td>\n",
       "      <td>86.579999</td>\n",
       "      <td>81.899999</td>\n",
       "      <td>83.800002</td>\n",
       "      <td>309579900.0</td>\n",
       "      <td>11.019520</td>\n",
       "    </tr>\n",
       "    <tr>\n",
       "      <th>2007-01-04</th>\n",
       "      <td>84.050001</td>\n",
       "      <td>85.949998</td>\n",
       "      <td>83.820003</td>\n",
       "      <td>85.659998</td>\n",
       "      <td>211815100.0</td>\n",
       "      <td>11.264106</td>\n",
       "    </tr>\n",
       "    <tr>\n",
       "      <th>2007-01-05</th>\n",
       "      <td>85.770000</td>\n",
       "      <td>86.199997</td>\n",
       "      <td>84.400002</td>\n",
       "      <td>85.049997</td>\n",
       "      <td>208685400.0</td>\n",
       "      <td>11.183892</td>\n",
       "    </tr>\n",
       "    <tr>\n",
       "      <th>2007-01-08</th>\n",
       "      <td>85.959998</td>\n",
       "      <td>86.529998</td>\n",
       "      <td>85.280003</td>\n",
       "      <td>85.470000</td>\n",
       "      <td>199276700.0</td>\n",
       "      <td>11.239121</td>\n",
       "    </tr>\n",
       "    <tr>\n",
       "      <th>2007-01-09</th>\n",
       "      <td>86.450003</td>\n",
       "      <td>92.979999</td>\n",
       "      <td>85.150000</td>\n",
       "      <td>92.570003</td>\n",
       "      <td>837324600.0</td>\n",
       "      <td>12.172756</td>\n",
       "    </tr>\n",
       "  </tbody>\n",
       "</table>\n",
       "</div>"
      ],
      "text/plain": [
       "                 Open       High        Low      Close       Volume  Adj Close\n",
       "Date                                                                          \n",
       "2007-01-03  86.289999  86.579999  81.899999  83.800002  309579900.0  11.019520\n",
       "2007-01-04  84.050001  85.949998  83.820003  85.659998  211815100.0  11.264106\n",
       "2007-01-05  85.770000  86.199997  84.400002  85.049997  208685400.0  11.183892\n",
       "2007-01-08  85.959998  86.529998  85.280003  85.470000  199276700.0  11.239121\n",
       "2007-01-09  86.450003  92.979999  85.150000  92.570003  837324600.0  12.172756"
      ]
     },
     "execution_count": 7,
     "metadata": {},
     "output_type": "execute_result"
    }
   ],
   "source": [
    "aapl.head()"
   ]
  },
  {
   "cell_type": "code",
   "execution_count": 8,
   "metadata": {
    "collapsed": false
   },
   "outputs": [
    {
     "data": {
      "text/plain": [
       "pandas.core.frame.DataFrame"
      ]
     },
     "execution_count": 8,
     "metadata": {},
     "output_type": "execute_result"
    }
   ],
   "source": [
    "type(aapl)"
   ]
  },
  {
   "cell_type": "markdown",
   "metadata": {},
   "source": [
    "Note that this is a pandas 2D `DataFrame`."
   ]
  },
  {
   "cell_type": "code",
   "execution_count": 9,
   "metadata": {
    "collapsed": true
   },
   "outputs": [],
   "source": [
    "aapl_adj_close = aapl['Adj Close'][:200] \n",
    "# selecting only the first 200 data points for analysis"
   ]
  },
  {
   "cell_type": "code",
   "execution_count": 10,
   "metadata": {
    "collapsed": false
   },
   "outputs": [
    {
     "data": {
      "text/plain": [
       "Date\n",
       "2007-10-11    21.332897\n",
       "2007-10-12    21.993015\n",
       "2007-10-15    21.957512\n",
       "2007-10-16    22.299405\n",
       "2007-10-17    22.716254\n",
       "Name: Adj Close, dtype: float64"
      ]
     },
     "execution_count": 10,
     "metadata": {},
     "output_type": "execute_result"
    }
   ],
   "source": [
    "aapl_adj_close.tail()"
   ]
  },
  {
   "cell_type": "code",
   "execution_count": 11,
   "metadata": {
    "collapsed": false
   },
   "outputs": [
    {
     "data": {
      "text/plain": [
       "pandas.core.series.Series"
      ]
     },
     "execution_count": 11,
     "metadata": {},
     "output_type": "execute_result"
    }
   ],
   "source": [
    "type(aapl_adj_close)"
   ]
  },
  {
   "cell_type": "code",
   "execution_count": 12,
   "metadata": {
    "collapsed": false
   },
   "outputs": [
    {
     "data": {
      "text/plain": [
       "Date\n",
       "2007-10-11    18.425768\n",
       "2007-10-12    18.506666\n",
       "2007-10-15    18.599056\n",
       "2007-10-16    18.689342\n",
       "2007-10-17    18.788544\n",
       "Name: Adj Close, dtype: float64"
      ]
     },
     "execution_count": 12,
     "metadata": {},
     "output_type": "execute_result"
    }
   ],
   "source": [
    "# 50-d moving average\n",
    "mavg = aapl_adj_close.rolling(window=50, center=False).mean()\n",
    "mstd = aapl_adj_close.rolling(window=20).std()\n",
    "mavg[-5:]"
   ]
  },
  {
   "cell_type": "markdown",
   "metadata": {},
   "source": [
    "## Plotting & Visualisation"
   ]
  },
  {
   "cell_type": "code",
   "execution_count": 13,
   "metadata": {
    "collapsed": false
   },
   "outputs": [],
   "source": [
    "import matplotlib.pyplot as plt\n",
    "%matplotlib inline\n",
    "import matplotlib\n",
    "matplotlib.style.use('ggplot')"
   ]
  },
  {
   "cell_type": "code",
   "execution_count": 14,
   "metadata": {
    "collapsed": false,
    "scrolled": true
   },
   "outputs": [
    {
     "data": {
      "image/png": "[encoded data removed]",
      "text/plain": [
       "<matplotlib.figure.Figure at 0x8893b38>"
      ]
     },
     "metadata": {},
     "output_type": "display_data"
    }
   ],
   "source": [
    "aapl_adj_close.plot(legend = True, label=\"AAPL\")\n",
    "mavg.plot(legend = True, label='50d SMA')\n",
    "plt.fill_between(mstd.index, mavg-2*mstd, mavg+2*mstd, color='b', alpha=0.2)\n",
    "plt.tight_layout()"
   ]
  },
  {
   "cell_type": "markdown",
   "metadata": {},
   "source": [
    "Note that this is a pandas 1D `Series`."
   ]
  },
  {
   "cell_type": "code",
   "execution_count": 15,
   "metadata": {
    "collapsed": true
   },
   "outputs": [],
   "source": [
    "dat_slice = dat[\"Adj Close\", :, :]"
   ]
  },
  {
   "cell_type": "code",
   "execution_count": 16,
   "metadata": {
    "collapsed": false
   },
   "outputs": [
    {
     "data": {
      "text/html": [
       "<div>\n",
       "<table border=\"1\" class=\"dataframe\">\n",
       "  <thead>\n",
       "    <tr style=\"text-align: right;\">\n",
       "      <th></th>\n",
       "      <th>AAPL</th>\n",
       "      <th>AMZN</th>\n",
       "      <th>GLD</th>\n",
       "      <th>IWM</th>\n",
       "      <th>SPY</th>\n",
       "      <th>VXX</th>\n",
       "    </tr>\n",
       "    <tr>\n",
       "      <th>Date</th>\n",
       "      <th></th>\n",
       "      <th></th>\n",
       "      <th></th>\n",
       "      <th></th>\n",
       "      <th></th>\n",
       "      <th></th>\n",
       "    </tr>\n",
       "  </thead>\n",
       "  <tbody>\n",
       "    <tr>\n",
       "      <th>2007-01-03</th>\n",
       "      <td>11.019520</td>\n",
       "      <td>38.700001</td>\n",
       "      <td>62.279999</td>\n",
       "      <td>68.699667</td>\n",
       "      <td>116.673075</td>\n",
       "      <td>NaN</td>\n",
       "    </tr>\n",
       "    <tr>\n",
       "      <th>2007-01-04</th>\n",
       "      <td>11.264106</td>\n",
       "      <td>38.900002</td>\n",
       "      <td>61.650002</td>\n",
       "      <td>68.884248</td>\n",
       "      <td>116.920669</td>\n",
       "      <td>NaN</td>\n",
       "    </tr>\n",
       "    <tr>\n",
       "      <th>2007-01-05</th>\n",
       "      <td>11.183892</td>\n",
       "      <td>38.369999</td>\n",
       "      <td>60.169998</td>\n",
       "      <td>67.442751</td>\n",
       "      <td>115.988072</td>\n",
       "      <td>NaN</td>\n",
       "    </tr>\n",
       "  </tbody>\n",
       "</table>\n",
       "</div>"
      ],
      "text/plain": [
       "                 AAPL       AMZN        GLD        IWM         SPY  VXX\n",
       "Date                                                                   \n",
       "2007-01-03  11.019520  38.700001  62.279999  68.699667  116.673075  NaN\n",
       "2007-01-04  11.264106  38.900002  61.650002  68.884248  116.920669  NaN\n",
       "2007-01-05  11.183892  38.369999  60.169998  67.442751  115.988072  NaN"
      ]
     },
     "execution_count": 16,
     "metadata": {},
     "output_type": "execute_result"
    }
   ],
   "source": [
    "dat_slice[:3]"
   ]
  },
  {
   "cell_type": "code",
   "execution_count": 17,
   "metadata": {
    "collapsed": false
   },
   "outputs": [
    {
     "data": {
      "text/plain": [
       "Index([u'AAPL', u'AMZN', u'GLD', u'IWM', u'SPY', u'VXX'], dtype='object')"
      ]
     },
     "execution_count": 17,
     "metadata": {},
     "output_type": "execute_result"
    }
   ],
   "source": [
    "dat_slice.columns \n",
    "# Access columns attributes"
   ]
  },
  {
   "cell_type": "code",
   "execution_count": 18,
   "metadata": {
    "collapsed": false
   },
   "outputs": [
    {
     "data": {
      "text/plain": [
       "DatetimeIndex(['2007-01-03', '2007-01-04', '2007-01-05', '2007-01-08',\n",
       "               '2007-01-09'],\n",
       "              dtype='datetime64[ns]', name=u'Date', freq=None)"
      ]
     },
     "execution_count": 18,
     "metadata": {},
     "output_type": "execute_result"
    }
   ],
   "source": [
    "dat_slice.index[:5]\n",
    "# Access rows or index attributes"
   ]
  },
  {
   "cell_type": "markdown",
   "metadata": {},
   "source": [
    "##  Computational Tools & Descriptive Statistics"
   ]
  },
  {
   "cell_type": "code",
   "execution_count": 19,
   "metadata": {
    "collapsed": false
   },
   "outputs": [],
   "source": [
    "dat_change = dat_slice.pct_change()"
   ]
  },
  {
   "cell_type": "code",
   "execution_count": 20,
   "metadata": {
    "collapsed": false
   },
   "outputs": [
    {
     "data": {
      "text/html": [
       "<div>\n",
       "<table border=\"1\" class=\"dataframe\">\n",
       "  <thead>\n",
       "    <tr style=\"text-align: right;\">\n",
       "      <th></th>\n",
       "      <th>AAPL</th>\n",
       "      <th>AMZN</th>\n",
       "      <th>GLD</th>\n",
       "      <th>IWM</th>\n",
       "      <th>SPY</th>\n",
       "      <th>VXX</th>\n",
       "    </tr>\n",
       "    <tr>\n",
       "      <th>Date</th>\n",
       "      <th></th>\n",
       "      <th></th>\n",
       "      <th></th>\n",
       "      <th></th>\n",
       "      <th></th>\n",
       "      <th></th>\n",
       "    </tr>\n",
       "  </thead>\n",
       "  <tbody>\n",
       "    <tr>\n",
       "      <th>2007-01-03</th>\n",
       "      <td>NaN</td>\n",
       "      <td>NaN</td>\n",
       "      <td>NaN</td>\n",
       "      <td>NaN</td>\n",
       "      <td>NaN</td>\n",
       "      <td>NaN</td>\n",
       "    </tr>\n",
       "    <tr>\n",
       "      <th>2007-01-04</th>\n",
       "      <td>0.022196</td>\n",
       "      <td>0.005168</td>\n",
       "      <td>-0.010116</td>\n",
       "      <td>0.002687</td>\n",
       "      <td>0.002122</td>\n",
       "      <td>NaN</td>\n",
       "    </tr>\n",
       "  </tbody>\n",
       "</table>\n",
       "</div>"
      ],
      "text/plain": [
       "                AAPL      AMZN       GLD       IWM       SPY  VXX\n",
       "Date                                                             \n",
       "2007-01-03       NaN       NaN       NaN       NaN       NaN  NaN\n",
       "2007-01-04  0.022196  0.005168 -0.010116  0.002687  0.002122  NaN"
      ]
     },
     "execution_count": 20,
     "metadata": {},
     "output_type": "execute_result"
    }
   ],
   "source": [
    "dat_change[:2]"
   ]
  },
  {
   "cell_type": "code",
   "execution_count": 21,
   "metadata": {
    "collapsed": false
   },
   "outputs": [
    {
     "data": {
      "text/plain": [
       "0.0016223225025544163"
      ]
     },
     "execution_count": 21,
     "metadata": {},
     "output_type": "execute_result"
    }
   ],
   "source": [
    "dat_change['AAPL'].mean()"
   ]
  },
  {
   "cell_type": "code",
   "execution_count": 22,
   "metadata": {
    "collapsed": false
   },
   "outputs": [
    {
     "data": {
      "text/plain": [
       "count    755.000000\n",
       "mean       0.001622\n",
       "std        0.028237\n",
       "min       -0.179195\n",
       "25%       -0.012666\n",
       "50%        0.001791\n",
       "75%        0.017366\n",
       "max        0.139050\n",
       "Name: AAPL, dtype: float64"
      ]
     },
     "execution_count": 22,
     "metadata": {},
     "output_type": "execute_result"
    }
   ],
   "source": [
    "dat_change['AAPL'].dropna().describe()"
   ]
  },
  {
   "cell_type": "code",
   "execution_count": 23,
   "metadata": {
    "collapsed": false
   },
   "outputs": [
    {
     "data": {
      "text/plain": [
       "-0.17919522674231181"
      ]
     },
     "execution_count": 23,
     "metadata": {},
     "output_type": "execute_result"
    }
   ],
   "source": [
    "dat_change['AAPL'][dat_change['AAPL'].idxmin()]"
   ]
  },
  {
   "cell_type": "code",
   "execution_count": 24,
   "metadata": {
    "collapsed": false
   },
   "outputs": [
    {
     "data": {
      "text/plain": [
       "<matplotlib.figure.Figure at 0x9caaa58>"
      ]
     },
     "metadata": {},
     "output_type": "display_data"
    },
    {
     "data": {
      "image/png": "[encoded data removed]",
      "text/plain": [
       "<matplotlib.figure.Figure at 0x9c838d0>"
      ]
     },
     "metadata": {},
     "output_type": "display_data"
    }
   ],
   "source": [
    "plt.figure();\n",
    "dat_change[['AAPL','VXX']].plot.hist(bins = 50, alpha=0.5)\n",
    "plt.tight_layout()"
   ]
  },
  {
   "cell_type": "code",
   "execution_count": 25,
   "metadata": {
    "collapsed": false
   },
   "outputs": [
    {
     "data": {
      "text/plain": [
       "<class 'pandas.core.panel.Panel'>\n",
       "Dimensions: 756 (items) x 6 (major_axis) x 6 (minor_axis)\n",
       "Items axis: 2007-01-03 00:00:00 to 2009-12-31 00:00:00\n",
       "Major_axis axis: AAPL to VXX\n",
       "Minor_axis axis: AAPL to VXX"
      ]
     },
     "execution_count": 25,
     "metadata": {},
     "output_type": "execute_result"
    }
   ],
   "source": [
    "correls = dat_change.rolling(window=50).corr(other=dat_change, pairwise=True)\n",
    "correls"
   ]
  },
  {
   "cell_type": "code",
   "execution_count": 26,
   "metadata": {
    "collapsed": false
   },
   "outputs": [
    {
     "data": {
      "image/png": "[encoded data removed]",
      "text/plain": [
       "<matplotlib.figure.Figure at 0x9e0c3c8>"
      ]
     },
     "metadata": {},
     "output_type": "display_data"
    }
   ],
   "source": [
    "correls[:,\"AAPL\",\"GLD\"].plot()\n",
    "plt.tight_layout()"
   ]
  },
  {
   "cell_type": "code",
   "execution_count": 27,
   "metadata": {
    "collapsed": false
   },
   "outputs": [
    {
     "data": {
      "text/html": [
       "<div>\n",
       "<table border=\"1\" class=\"dataframe\">\n",
       "  <thead>\n",
       "    <tr style=\"text-align: right;\">\n",
       "      <th></th>\n",
       "      <th>AAPL</th>\n",
       "      <th>AMZN</th>\n",
       "      <th>GLD</th>\n",
       "      <th>IWM</th>\n",
       "      <th>SPY</th>\n",
       "      <th>VXX</th>\n",
       "    </tr>\n",
       "    <tr>\n",
       "      <th>Date</th>\n",
       "      <th></th>\n",
       "      <th></th>\n",
       "      <th></th>\n",
       "      <th></th>\n",
       "      <th></th>\n",
       "      <th></th>\n",
       "    </tr>\n",
       "  </thead>\n",
       "  <tbody>\n",
       "    <tr>\n",
       "      <th>2007-01-03</th>\n",
       "      <td>NaN</td>\n",
       "      <td>NaN</td>\n",
       "      <td>NaN</td>\n",
       "      <td>NaN</td>\n",
       "      <td>NaN</td>\n",
       "      <td>NaN</td>\n",
       "    </tr>\n",
       "    <tr>\n",
       "      <th>2007-01-04</th>\n",
       "      <td>NaN</td>\n",
       "      <td>NaN</td>\n",
       "      <td>NaN</td>\n",
       "      <td>NaN</td>\n",
       "      <td>NaN</td>\n",
       "      <td>NaN</td>\n",
       "    </tr>\n",
       "    <tr>\n",
       "      <th>2007-01-05</th>\n",
       "      <td>NaN</td>\n",
       "      <td>NaN</td>\n",
       "      <td>NaN</td>\n",
       "      <td>NaN</td>\n",
       "      <td>NaN</td>\n",
       "      <td>NaN</td>\n",
       "    </tr>\n",
       "  </tbody>\n",
       "</table>\n",
       "</div>"
      ],
      "text/plain": [
       "            AAPL  AMZN  GLD  IWM  SPY  VXX\n",
       "Date                                      \n",
       "2007-01-03   NaN   NaN  NaN  NaN  NaN  NaN\n",
       "2007-01-04   NaN   NaN  NaN  NaN  NaN  NaN\n",
       "2007-01-05   NaN   NaN  NaN  NaN  NaN  NaN"
      ]
     },
     "execution_count": 27,
     "metadata": {},
     "output_type": "execute_result"
    }
   ],
   "source": [
    "correls[:,\"GLD\",:].T[:3]"
   ]
  },
  {
   "cell_type": "code",
   "execution_count": 28,
   "metadata": {
    "collapsed": false
   },
   "outputs": [
    {
     "data": {
      "text/html": [
       "<div>\n",
       "<table border=\"1\" class=\"dataframe\">\n",
       "  <thead>\n",
       "    <tr style=\"text-align: right;\">\n",
       "      <th></th>\n",
       "      <th>AAPL</th>\n",
       "      <th>AMZN</th>\n",
       "      <th>GLD</th>\n",
       "      <th>IWM</th>\n",
       "      <th>SPY</th>\n",
       "      <th>VXX</th>\n",
       "    </tr>\n",
       "    <tr>\n",
       "      <th>Date</th>\n",
       "      <th></th>\n",
       "      <th></th>\n",
       "      <th></th>\n",
       "      <th></th>\n",
       "      <th></th>\n",
       "      <th></th>\n",
       "    </tr>\n",
       "  </thead>\n",
       "  <tbody>\n",
       "  </tbody>\n",
       "</table>\n",
       "</div>"
      ],
      "text/plain": [
       "Empty DataFrame\n",
       "Columns: [AAPL, AMZN, GLD, IWM, SPY, VXX]\n",
       "Index: []"
      ]
     },
     "execution_count": 28,
     "metadata": {},
     "output_type": "execute_result"
    }
   ],
   "source": [
    "correls[:,\"GLD\",:].T[:3].dropna()"
   ]
  },
  {
   "cell_type": "code",
   "execution_count": 29,
   "metadata": {
    "collapsed": false
   },
   "outputs": [
    {
     "data": {
      "image/png": "[encoded data removed]",
      "text/plain": [
       "<matplotlib.figure.Figure at 0xa62b7f0>"
      ]
     },
     "metadata": {},
     "output_type": "display_data"
    }
   ],
   "source": [
    "plt.scatter(dat_change[\"SPY\"],dat_change[\"AAPL\"])\n",
    "plt.xlabel('Returns SPY')\n",
    "plt.ylabel('Returns AAPL')\n",
    "plt.tight_layout()"
   ]
  },
  {
   "cell_type": "code",
   "execution_count": 30,
   "metadata": {
    "collapsed": false
   },
   "outputs": [
    {
     "data": {
      "text/html": [
       "<div>\n",
       "<table border=\"1\" class=\"dataframe\">\n",
       "  <thead>\n",
       "    <tr style=\"text-align: right;\">\n",
       "      <th></th>\n",
       "      <th>AAPL</th>\n",
       "      <th>AMZN</th>\n",
       "      <th>GLD</th>\n",
       "      <th>IWM</th>\n",
       "      <th>SPY</th>\n",
       "      <th>VXX</th>\n",
       "    </tr>\n",
       "  </thead>\n",
       "  <tbody>\n",
       "    <tr>\n",
       "      <th>AAPL</th>\n",
       "      <td>1.000000</td>\n",
       "      <td>0.524897</td>\n",
       "      <td>-0.069097</td>\n",
       "      <td>0.619825</td>\n",
       "      <td>0.632558</td>\n",
       "      <td>-0.592792</td>\n",
       "    </tr>\n",
       "    <tr>\n",
       "      <th>AMZN</th>\n",
       "      <td>0.524897</td>\n",
       "      <td>1.000000</td>\n",
       "      <td>-0.017425</td>\n",
       "      <td>0.554623</td>\n",
       "      <td>0.566448</td>\n",
       "      <td>-0.385627</td>\n",
       "    </tr>\n",
       "    <tr>\n",
       "      <th>GLD</th>\n",
       "      <td>-0.069097</td>\n",
       "      <td>-0.017425</td>\n",
       "      <td>1.000000</td>\n",
       "      <td>0.025875</td>\n",
       "      <td>0.055497</td>\n",
       "      <td>-0.045662</td>\n",
       "    </tr>\n",
       "    <tr>\n",
       "      <th>IWM</th>\n",
       "      <td>0.619825</td>\n",
       "      <td>0.554623</td>\n",
       "      <td>0.025875</td>\n",
       "      <td>1.000000</td>\n",
       "      <td>0.919820</td>\n",
       "      <td>-0.778885</td>\n",
       "    </tr>\n",
       "    <tr>\n",
       "      <th>SPY</th>\n",
       "      <td>0.632558</td>\n",
       "      <td>0.566448</td>\n",
       "      <td>0.055497</td>\n",
       "      <td>0.919820</td>\n",
       "      <td>1.000000</td>\n",
       "      <td>-0.822362</td>\n",
       "    </tr>\n",
       "    <tr>\n",
       "      <th>VXX</th>\n",
       "      <td>-0.592792</td>\n",
       "      <td>-0.385627</td>\n",
       "      <td>-0.045662</td>\n",
       "      <td>-0.778885</td>\n",
       "      <td>-0.822362</td>\n",
       "      <td>1.000000</td>\n",
       "    </tr>\n",
       "  </tbody>\n",
       "</table>\n",
       "</div>"
      ],
      "text/plain": [
       "          AAPL      AMZN       GLD       IWM       SPY       VXX\n",
       "AAPL  1.000000  0.524897 -0.069097  0.619825  0.632558 -0.592792\n",
       "AMZN  0.524897  1.000000 -0.017425  0.554623  0.566448 -0.385627\n",
       "GLD  -0.069097 -0.017425  1.000000  0.025875  0.055497 -0.045662\n",
       "IWM   0.619825  0.554623  0.025875  1.000000  0.919820 -0.778885\n",
       "SPY   0.632558  0.566448  0.055497  0.919820  1.000000 -0.822362\n",
       "VXX  -0.592792 -0.385627 -0.045662 -0.778885 -0.822362  1.000000"
      ]
     },
     "execution_count": 30,
     "metadata": {},
     "output_type": "execute_result"
    }
   ],
   "source": [
    "corr = dat_change.corr()\n",
    "corr"
   ]
  },
  {
   "cell_type": "code",
   "execution_count": 31,
   "metadata": {
    "collapsed": false
   },
   "outputs": [
    {
     "data": {
      "image/png": "[encoded data removed]",
      "text/plain": [
       "<matplotlib.figure.Figure at 0xa65cda0>"
      ]
     },
     "metadata": {},
     "output_type": "display_data"
    }
   ],
   "source": [
    "pd.scatter_matrix(dat_change, diagonal='kde',figsize=(10,10));"
   ]
  },
  {
   "cell_type": "code",
   "execution_count": 32,
   "metadata": {
    "collapsed": false
   },
   "outputs": [
    {
     "data": {
      "text/plain": [
       "AAPL   -0.223461\n",
       "AMZN    1.726021\n",
       "GLD     0.210842\n",
       "IWM    -0.134951\n",
       "SPY     0.397728\n",
       "VXX     0.409351\n",
       "dtype: float64"
      ]
     },
     "execution_count": 32,
     "metadata": {},
     "output_type": "execute_result"
    }
   ],
   "source": [
    "dat_change.skew()"
   ]
  },
  {
   "cell_type": "code",
   "execution_count": 33,
   "metadata": {
    "collapsed": false
   },
   "outputs": [
    {
     "data": {
      "text/plain": [
       "AAPL     3.854346\n",
       "AMZN    11.746229\n",
       "GLD      5.457343\n",
       "IWM      3.006528\n",
       "SPY      9.505700\n",
       "VXX      0.579859\n",
       "dtype: float64"
      ]
     },
     "execution_count": 33,
     "metadata": {},
     "output_type": "execute_result"
    }
   ],
   "source": [
    "dat_change.kurt()"
   ]
  },
  {
   "cell_type": "code",
   "execution_count": 34,
   "metadata": {
    "collapsed": false,
    "scrolled": true
   },
   "outputs": [
    {
     "data": {
      "image/png": "[encoded data removed]",
      "text/plain": [
       "<matplotlib.figure.Figure at 0xa65cd30>"
      ]
     },
     "metadata": {},
     "output_type": "display_data"
    }
   ],
   "source": [
    "from pandas.tools.plotting import bootstrap_plot\n",
    "bootstrap_plot(dat_change['AAPL'].dropna(), size=50, samples=500, color='grey')\n",
    "plt.tight_layout()"
   ]
  },
  {
   "cell_type": "markdown",
   "metadata": {},
   "source": [
    "## Merge"
   ]
  },
  {
   "cell_type": "code",
   "execution_count": 35,
   "metadata": {
    "collapsed": false
   },
   "outputs": [],
   "source": [
    "#https://www.quandl.com/data/SIDC/SUNSPOTS_D-Total-Sunspot-Numbers-Daily\n",
    "sunspot = pd.read_csv(\"data/SIDC-SUNSPOTS_D.csv\", index_col=\"Date\")"
   ]
  },
  {
   "cell_type": "code",
   "execution_count": 36,
   "metadata": {
    "collapsed": false
   },
   "outputs": [
    {
     "data": {
      "text/html": [
       "<div>\n",
       "<table border=\"1\" class=\"dataframe\">\n",
       "  <thead>\n",
       "    <tr style=\"text-align: right;\">\n",
       "      <th></th>\n",
       "      <th>Daily Sunspot Number</th>\n",
       "      <th>Standard Deviation</th>\n",
       "      <th>Number of Observations</th>\n",
       "      <th>Indicator</th>\n",
       "    </tr>\n",
       "    <tr>\n",
       "      <th>Date</th>\n",
       "      <th></th>\n",
       "      <th></th>\n",
       "      <th></th>\n",
       "      <th></th>\n",
       "    </tr>\n",
       "  </thead>\n",
       "  <tbody>\n",
       "    <tr>\n",
       "      <th>30/4/2016</th>\n",
       "      <td>89</td>\n",
       "      <td>7.4</td>\n",
       "      <td>24</td>\n",
       "      <td>0</td>\n",
       "    </tr>\n",
       "    <tr>\n",
       "      <th>29/4/2016</th>\n",
       "      <td>81</td>\n",
       "      <td>4.8</td>\n",
       "      <td>24</td>\n",
       "      <td>0</td>\n",
       "    </tr>\n",
       "    <tr>\n",
       "      <th>28/4/2016</th>\n",
       "      <td>90</td>\n",
       "      <td>5.6</td>\n",
       "      <td>32</td>\n",
       "      <td>0</td>\n",
       "    </tr>\n",
       "    <tr>\n",
       "      <th>27/4/2016</th>\n",
       "      <td>77</td>\n",
       "      <td>5.6</td>\n",
       "      <td>30</td>\n",
       "      <td>0</td>\n",
       "    </tr>\n",
       "    <tr>\n",
       "      <th>26/4/2016</th>\n",
       "      <td>57</td>\n",
       "      <td>4.9</td>\n",
       "      <td>33</td>\n",
       "      <td>0</td>\n",
       "    </tr>\n",
       "  </tbody>\n",
       "</table>\n",
       "</div>"
      ],
      "text/plain": [
       "           Daily Sunspot Number  Standard Deviation  Number of Observations  \\\n",
       "Date                                                                          \n",
       "30/4/2016                    89                 7.4                      24   \n",
       "29/4/2016                    81                 4.8                      24   \n",
       "28/4/2016                    90                 5.6                      32   \n",
       "27/4/2016                    77                 5.6                      30   \n",
       "26/4/2016                    57                 4.9                      33   \n",
       "\n",
       "           Indicator  \n",
       "Date                  \n",
       "30/4/2016          0  \n",
       "29/4/2016          0  \n",
       "28/4/2016          0  \n",
       "27/4/2016          0  \n",
       "26/4/2016          0  "
      ]
     },
     "execution_count": 36,
     "metadata": {},
     "output_type": "execute_result"
    }
   ],
   "source": [
    "sunspot.head()"
   ]
  },
  {
   "cell_type": "code",
   "execution_count": 37,
   "metadata": {
    "collapsed": false
   },
   "outputs": [
    {
     "data": {
      "text/html": [
       "<div>\n",
       "<table border=\"1\" class=\"dataframe\">\n",
       "  <thead>\n",
       "    <tr style=\"text-align: right;\">\n",
       "      <th></th>\n",
       "      <th>Open</th>\n",
       "      <th>High</th>\n",
       "      <th>Low</th>\n",
       "      <th>Close</th>\n",
       "      <th>Volume</th>\n",
       "      <th>Adj Close</th>\n",
       "    </tr>\n",
       "    <tr>\n",
       "      <th>Date</th>\n",
       "      <th></th>\n",
       "      <th></th>\n",
       "      <th></th>\n",
       "      <th></th>\n",
       "      <th></th>\n",
       "      <th></th>\n",
       "    </tr>\n",
       "  </thead>\n",
       "  <tbody>\n",
       "    <tr>\n",
       "      <th>2007-01-03</th>\n",
       "      <td>86.289999</td>\n",
       "      <td>86.579999</td>\n",
       "      <td>81.899999</td>\n",
       "      <td>83.800002</td>\n",
       "      <td>309579900.0</td>\n",
       "      <td>11.019520</td>\n",
       "    </tr>\n",
       "    <tr>\n",
       "      <th>2007-01-04</th>\n",
       "      <td>84.050001</td>\n",
       "      <td>85.949998</td>\n",
       "      <td>83.820003</td>\n",
       "      <td>85.659998</td>\n",
       "      <td>211815100.0</td>\n",
       "      <td>11.264106</td>\n",
       "    </tr>\n",
       "    <tr>\n",
       "      <th>2007-01-05</th>\n",
       "      <td>85.770000</td>\n",
       "      <td>86.199997</td>\n",
       "      <td>84.400002</td>\n",
       "      <td>85.049997</td>\n",
       "      <td>208685400.0</td>\n",
       "      <td>11.183892</td>\n",
       "    </tr>\n",
       "    <tr>\n",
       "      <th>2007-01-08</th>\n",
       "      <td>85.959998</td>\n",
       "      <td>86.529998</td>\n",
       "      <td>85.280003</td>\n",
       "      <td>85.470000</td>\n",
       "      <td>199276700.0</td>\n",
       "      <td>11.239121</td>\n",
       "    </tr>\n",
       "    <tr>\n",
       "      <th>2007-01-09</th>\n",
       "      <td>86.450003</td>\n",
       "      <td>92.979999</td>\n",
       "      <td>85.150000</td>\n",
       "      <td>92.570003</td>\n",
       "      <td>837324600.0</td>\n",
       "      <td>12.172756</td>\n",
       "    </tr>\n",
       "  </tbody>\n",
       "</table>\n",
       "</div>"
      ],
      "text/plain": [
       "                 Open       High        Low      Close       Volume  Adj Close\n",
       "Date                                                                          \n",
       "2007-01-03  86.289999  86.579999  81.899999  83.800002  309579900.0  11.019520\n",
       "2007-01-04  84.050001  85.949998  83.820003  85.659998  211815100.0  11.264106\n",
       "2007-01-05  85.770000  86.199997  84.400002  85.049997  208685400.0  11.183892\n",
       "2007-01-08  85.959998  86.529998  85.280003  85.470000  199276700.0  11.239121\n",
       "2007-01-09  86.450003  92.979999  85.150000  92.570003  837324600.0  12.172756"
      ]
     },
     "execution_count": 37,
     "metadata": {},
     "output_type": "execute_result"
    }
   ],
   "source": [
    "aapl.head()"
   ]
  },
  {
   "cell_type": "code",
   "execution_count": 38,
   "metadata": {
    "collapsed": false
   },
   "outputs": [],
   "source": [
    "# Merge based on Index.\n",
    "comb_data = pd.merge(aapl, sunspot, how=\"inner\", left_index=True, right_index=True)"
   ]
  },
  {
   "cell_type": "code",
   "execution_count": 39,
   "metadata": {
    "collapsed": false
   },
   "outputs": [],
   "source": [
    "# Select portion of the data for analysis\n",
    "comb_data = comb_data[[\"Adj Close\", \"Daily Sunspot Number\"]]\n",
    "# Rename columns\n",
    "comb_data.columns = [\"Close\", \"Sunspot\"]"
   ]
  },
  {
   "cell_type": "code",
   "execution_count": 40,
   "metadata": {
    "collapsed": false
   },
   "outputs": [
    {
     "data": {
      "text/plain": [
       "<matplotlib.collections.PathCollection at 0x1f14f4e0>"
      ]
     },
     "execution_count": 40,
     "metadata": {},
     "output_type": "execute_result"
    },
    {
     "data": {
      "image/png": "[encoded data removed]",
      "text/plain": [
       "<matplotlib.figure.Figure at 0x1de9d9b0>"
      ]
     },
     "metadata": {},
     "output_type": "display_data"
    }
   ],
   "source": [
    "# Visual Check. \n",
    "plt.scatter(comb_data[\"Sunspot\"], comb_data[\"Close\"].pct_change())"
   ]
  },
  {
   "cell_type": "markdown",
   "metadata": {},
   "source": [
    "No obvious relationships"
   ]
  },
  {
   "cell_type": "code",
   "execution_count": 41,
   "metadata": {
    "collapsed": false
   },
   "outputs": [
    {
     "data": {
      "text/html": [
       "<div>\n",
       "<table border=\"1\" class=\"dataframe\">\n",
       "  <thead>\n",
       "    <tr style=\"text-align: right;\">\n",
       "      <th></th>\n",
       "      <th>Close</th>\n",
       "      <th>Sunspot</th>\n",
       "      <th>pct_change</th>\n",
       "    </tr>\n",
       "  </thead>\n",
       "  <tbody>\n",
       "    <tr>\n",
       "      <th>2009-12-30</th>\n",
       "      <td>27.830205</td>\n",
       "      <td>18</td>\n",
       "      <td>0.004318</td>\n",
       "    </tr>\n",
       "    <tr>\n",
       "      <th>2009-12-29</th>\n",
       "      <td>27.496202</td>\n",
       "      <td>18</td>\n",
       "      <td>-0.012001</td>\n",
       "    </tr>\n",
       "    <tr>\n",
       "      <th>2009-12-28</th>\n",
       "      <td>27.826260</td>\n",
       "      <td>18</td>\n",
       "      <td>0.012004</td>\n",
       "    </tr>\n",
       "    <tr>\n",
       "      <th>2009-12-24</th>\n",
       "      <td>27.488311</td>\n",
       "      <td>20</td>\n",
       "      <td>-0.012145</td>\n",
       "    </tr>\n",
       "    <tr>\n",
       "      <th>2009-12-23</th>\n",
       "      <td>26.575717</td>\n",
       "      <td>26</td>\n",
       "      <td>-0.033199</td>\n",
       "    </tr>\n",
       "  </tbody>\n",
       "</table>\n",
       "</div>"
      ],
      "text/plain": [
       "                Close  Sunspot  pct_change\n",
       "2009-12-30  27.830205       18    0.004318\n",
       "2009-12-29  27.496202       18   -0.012001\n",
       "2009-12-28  27.826260       18    0.012004\n",
       "2009-12-24  27.488311       20   -0.012145\n",
       "2009-12-23  26.575717       26   -0.033199"
      ]
     },
     "execution_count": 41,
     "metadata": {},
     "output_type": "execute_result"
    }
   ],
   "source": [
    "comb_data[\"pct_change\"] = comb_data[\"Close\"].pct_change()\n",
    "comb_data.dropna(inplace=True)\n",
    "comb_data.head()"
   ]
  },
  {
   "cell_type": "code",
   "execution_count": 42,
   "metadata": {
    "collapsed": true
   },
   "outputs": [],
   "source": [
    "from scipy import stats"
   ]
  },
  {
   "cell_type": "code",
   "execution_count": 43,
   "metadata": {
    "collapsed": false
   },
   "outputs": [],
   "source": [
    "x = comb_data[\"Sunspot\"]"
   ]
  },
  {
   "cell_type": "code",
   "execution_count": 44,
   "metadata": {
    "collapsed": false
   },
   "outputs": [],
   "source": [
    "y = comb_data[\"pct_change\"]"
   ]
  },
  {
   "cell_type": "code",
   "execution_count": 45,
   "metadata": {
    "collapsed": false
   },
   "outputs": [],
   "source": [
    "slope, intercept, r_value, p_value, std_err = stats.linregress(x,y)"
   ]
  },
  {
   "cell_type": "code",
   "execution_count": 46,
   "metadata": {
    "collapsed": false
   },
   "outputs": [
    {
     "name": "stdout",
     "output_type": "stream",
     "text": [
      "r-squared: 0.00221072947387\n"
     ]
    }
   ],
   "source": [
    "print \"r-squared:\", r_value**2"
   ]
  },
  {
   "cell_type": "markdown",
   "metadata": {},
   "source": [
    "With R-squared so low, there's no value in persuing this line of research"
   ]
  },
  {
   "cell_type": "markdown",
   "metadata": {},
   "source": [
    "# Mean-Reversion and Optimization\n",
    "Based on [Zura Kakushadze](http://papers.ssrn.com/sol3/papers.cfm?abstract_id=2478345)'s paper titled **Mean-Reversion and Optimization**\n",
    "\n",
    "Implementation of Equations 10 - 16"
   ]
  },
  {
   "cell_type": "code",
   "execution_count": 47,
   "metadata": {
    "collapsed": true
   },
   "outputs": [],
   "source": [
    "import datetime\n",
    "start = datetime.datetime(2015, 1, 1)\n",
    "end = datetime.datetime(2016, 2, 4)"
   ]
  },
  {
   "cell_type": "markdown",
   "metadata": {},
   "source": [
    "For education purpose, I have only implemented this on one market sector only (Auto Parts) and not against the whole market as Zura did in his paper."
   ]
  },
  {
   "cell_type": "code",
   "execution_count": 48,
   "metadata": {
    "collapsed": true
   },
   "outputs": [],
   "source": [
    "data_list = [\"DNZOF\", \"JCI\", \"DLPH\", \"TYIDF\", \"VLEEF\", \n",
    "             \"ALV\", \"LEA\", \"BWA\",\"FURCF\", \"GNTX\"]"
   ]
  },
  {
   "cell_type": "code",
   "execution_count": 49,
   "metadata": {
    "collapsed": true
   },
   "outputs": [],
   "source": [
    "df = web.DataReader(data_list, 'yahoo', start, end)"
   ]
  },
  {
   "cell_type": "code",
   "execution_count": 50,
   "metadata": {
    "collapsed": false
   },
   "outputs": [
    {
     "data": {
      "text/plain": [
       "<class 'pandas.core.panel.Panel'>\n",
       "Dimensions: 6 (items) x 275 (major_axis) x 10 (minor_axis)\n",
       "Items axis: Open to Adj Close\n",
       "Major_axis axis: 2015-01-02 00:00:00 to 2016-02-04 00:00:00\n",
       "Minor_axis axis: ALV to VLEEF"
      ]
     },
     "execution_count": 50,
     "metadata": {},
     "output_type": "execute_result"
    }
   ],
   "source": [
    "df"
   ]
  },
  {
   "cell_type": "code",
   "execution_count": 51,
   "metadata": {
    "collapsed": false
   },
   "outputs": [],
   "source": [
    "df = df[[\"Open\",\"Close\",\"Adj Close\"], :, :]"
   ]
  },
  {
   "cell_type": "code",
   "execution_count": 52,
   "metadata": {
    "collapsed": true
   },
   "outputs": [],
   "source": [
    "df2 = df[\"Open\"] / df[\"Close\"].shift(1) - 1 "
   ]
  },
  {
   "cell_type": "code",
   "execution_count": 53,
   "metadata": {
    "collapsed": false
   },
   "outputs": [
    {
     "data": {
      "text/html": [
       "<div>\n",
       "<table border=\"1\" class=\"dataframe\">\n",
       "  <thead>\n",
       "    <tr style=\"text-align: right;\">\n",
       "      <th></th>\n",
       "      <th>ALV</th>\n",
       "      <th>BWA</th>\n",
       "      <th>DLPH</th>\n",
       "      <th>DNZOF</th>\n",
       "      <th>FURCF</th>\n",
       "      <th>GNTX</th>\n",
       "      <th>JCI</th>\n",
       "      <th>LEA</th>\n",
       "      <th>TYIDF</th>\n",
       "      <th>VLEEF</th>\n",
       "    </tr>\n",
       "    <tr>\n",
       "      <th>Date</th>\n",
       "      <th></th>\n",
       "      <th></th>\n",
       "      <th></th>\n",
       "      <th></th>\n",
       "      <th></th>\n",
       "      <th></th>\n",
       "      <th></th>\n",
       "      <th></th>\n",
       "      <th></th>\n",
       "      <th></th>\n",
       "    </tr>\n",
       "  </thead>\n",
       "  <tbody>\n",
       "    <tr>\n",
       "      <th>2015-01-02</th>\n",
       "      <td>NaN</td>\n",
       "      <td>NaN</td>\n",
       "      <td>NaN</td>\n",
       "      <td>NaN</td>\n",
       "      <td>NaN</td>\n",
       "      <td>NaN</td>\n",
       "      <td>NaN</td>\n",
       "      <td>NaN</td>\n",
       "      <td>NaN</td>\n",
       "      <td>NaN</td>\n",
       "    </tr>\n",
       "    <tr>\n",
       "      <th>2015-01-05</th>\n",
       "      <td>-0.012271</td>\n",
       "      <td>-0.004384</td>\n",
       "      <td>-0.010607</td>\n",
       "      <td>-0.015005</td>\n",
       "      <td>0.0</td>\n",
       "      <td>-0.011154</td>\n",
       "      <td>-0.006875</td>\n",
       "      <td>-0.008682</td>\n",
       "      <td>0.000000</td>\n",
       "      <td>0.000000</td>\n",
       "    </tr>\n",
       "    <tr>\n",
       "      <th>2015-01-06</th>\n",
       "      <td>0.004009</td>\n",
       "      <td>0.003762</td>\n",
       "      <td>0.001297</td>\n",
       "      <td>-0.017410</td>\n",
       "      <td>0.0</td>\n",
       "      <td>0.003427</td>\n",
       "      <td>0.001943</td>\n",
       "      <td>0.004964</td>\n",
       "      <td>0.000000</td>\n",
       "      <td>0.000000</td>\n",
       "    </tr>\n",
       "    <tr>\n",
       "      <th>2015-01-07</th>\n",
       "      <td>0.002734</td>\n",
       "      <td>0.005115</td>\n",
       "      <td>0.005364</td>\n",
       "      <td>0.013289</td>\n",
       "      <td>0.0</td>\n",
       "      <td>0.009907</td>\n",
       "      <td>0.007864</td>\n",
       "      <td>0.013138</td>\n",
       "      <td>-0.030624</td>\n",
       "      <td>-0.040145</td>\n",
       "    </tr>\n",
       "    <tr>\n",
       "      <th>2015-01-08</th>\n",
       "      <td>-0.006749</td>\n",
       "      <td>0.009994</td>\n",
       "      <td>0.009636</td>\n",
       "      <td>0.000000</td>\n",
       "      <td>0.0</td>\n",
       "      <td>0.010901</td>\n",
       "      <td>0.008193</td>\n",
       "      <td>0.004800</td>\n",
       "      <td>0.000000</td>\n",
       "      <td>0.000000</td>\n",
       "    </tr>\n",
       "  </tbody>\n",
       "</table>\n",
       "</div>"
      ],
      "text/plain": [
       "                 ALV       BWA      DLPH     DNZOF  FURCF      GNTX       JCI  \\\n",
       "Date                                                                            \n",
       "2015-01-02       NaN       NaN       NaN       NaN    NaN       NaN       NaN   \n",
       "2015-01-05 -0.012271 -0.004384 -0.010607 -0.015005    0.0 -0.011154 -0.006875   \n",
       "2015-01-06  0.004009  0.003762  0.001297 -0.017410    0.0  0.003427  0.001943   \n",
       "2015-01-07  0.002734  0.005115  0.005364  0.013289    0.0  0.009907  0.007864   \n",
       "2015-01-08 -0.006749  0.009994  0.009636  0.000000    0.0  0.010901  0.008193   \n",
       "\n",
       "                 LEA     TYIDF     VLEEF  \n",
       "Date                                      \n",
       "2015-01-02       NaN       NaN       NaN  \n",
       "2015-01-05 -0.008682  0.000000  0.000000  \n",
       "2015-01-06  0.004964  0.000000  0.000000  \n",
       "2015-01-07  0.013138 -0.030624 -0.040145  \n",
       "2015-01-08  0.004800  0.000000  0.000000  "
      ]
     },
     "execution_count": 53,
     "metadata": {},
     "output_type": "execute_result"
    }
   ],
   "source": [
    "df2.head()"
   ]
  },
  {
   "cell_type": "code",
   "execution_count": 54,
   "metadata": {
    "collapsed": true
   },
   "outputs": [],
   "source": [
    "# Calculate average\n",
    "df2[\"average\"] = df2.mean(axis=1)"
   ]
  },
  {
   "cell_type": "code",
   "execution_count": 55,
   "metadata": {
    "collapsed": false
   },
   "outputs": [
    {
     "data": {
      "text/html": [
       "<div>\n",
       "<table border=\"1\" class=\"dataframe\">\n",
       "  <thead>\n",
       "    <tr style=\"text-align: right;\">\n",
       "      <th></th>\n",
       "      <th>ALV</th>\n",
       "      <th>BWA</th>\n",
       "      <th>DLPH</th>\n",
       "      <th>DNZOF</th>\n",
       "      <th>FURCF</th>\n",
       "      <th>GNTX</th>\n",
       "      <th>JCI</th>\n",
       "      <th>LEA</th>\n",
       "      <th>TYIDF</th>\n",
       "      <th>VLEEF</th>\n",
       "      <th>average</th>\n",
       "    </tr>\n",
       "    <tr>\n",
       "      <th>Date</th>\n",
       "      <th></th>\n",
       "      <th></th>\n",
       "      <th></th>\n",
       "      <th></th>\n",
       "      <th></th>\n",
       "      <th></th>\n",
       "      <th></th>\n",
       "      <th></th>\n",
       "      <th></th>\n",
       "      <th></th>\n",
       "      <th></th>\n",
       "    </tr>\n",
       "  </thead>\n",
       "  <tbody>\n",
       "    <tr>\n",
       "      <th>2015-01-02</th>\n",
       "      <td>NaN</td>\n",
       "      <td>NaN</td>\n",
       "      <td>NaN</td>\n",
       "      <td>NaN</td>\n",
       "      <td>NaN</td>\n",
       "      <td>NaN</td>\n",
       "      <td>NaN</td>\n",
       "      <td>NaN</td>\n",
       "      <td>NaN</td>\n",
       "      <td>NaN</td>\n",
       "      <td>NaN</td>\n",
       "    </tr>\n",
       "    <tr>\n",
       "      <th>2015-01-05</th>\n",
       "      <td>-0.012271</td>\n",
       "      <td>-0.004384</td>\n",
       "      <td>-0.010607</td>\n",
       "      <td>-0.015005</td>\n",
       "      <td>0.0</td>\n",
       "      <td>-0.011154</td>\n",
       "      <td>-0.006875</td>\n",
       "      <td>-0.008682</td>\n",
       "      <td>0.000000</td>\n",
       "      <td>0.000000</td>\n",
       "      <td>-0.006898</td>\n",
       "    </tr>\n",
       "    <tr>\n",
       "      <th>2015-01-06</th>\n",
       "      <td>0.004009</td>\n",
       "      <td>0.003762</td>\n",
       "      <td>0.001297</td>\n",
       "      <td>-0.017410</td>\n",
       "      <td>0.0</td>\n",
       "      <td>0.003427</td>\n",
       "      <td>0.001943</td>\n",
       "      <td>0.004964</td>\n",
       "      <td>0.000000</td>\n",
       "      <td>0.000000</td>\n",
       "      <td>0.000199</td>\n",
       "    </tr>\n",
       "    <tr>\n",
       "      <th>2015-01-07</th>\n",
       "      <td>0.002734</td>\n",
       "      <td>0.005115</td>\n",
       "      <td>0.005364</td>\n",
       "      <td>0.013289</td>\n",
       "      <td>0.0</td>\n",
       "      <td>0.009907</td>\n",
       "      <td>0.007864</td>\n",
       "      <td>0.013138</td>\n",
       "      <td>-0.030624</td>\n",
       "      <td>-0.040145</td>\n",
       "      <td>-0.001336</td>\n",
       "    </tr>\n",
       "    <tr>\n",
       "      <th>2015-01-08</th>\n",
       "      <td>-0.006749</td>\n",
       "      <td>0.009994</td>\n",
       "      <td>0.009636</td>\n",
       "      <td>0.000000</td>\n",
       "      <td>0.0</td>\n",
       "      <td>0.010901</td>\n",
       "      <td>0.008193</td>\n",
       "      <td>0.004800</td>\n",
       "      <td>0.000000</td>\n",
       "      <td>0.000000</td>\n",
       "      <td>0.003678</td>\n",
       "    </tr>\n",
       "  </tbody>\n",
       "</table>\n",
       "</div>"
      ],
      "text/plain": [
       "                 ALV       BWA      DLPH     DNZOF  FURCF      GNTX       JCI  \\\n",
       "Date                                                                            \n",
       "2015-01-02       NaN       NaN       NaN       NaN    NaN       NaN       NaN   \n",
       "2015-01-05 -0.012271 -0.004384 -0.010607 -0.015005    0.0 -0.011154 -0.006875   \n",
       "2015-01-06  0.004009  0.003762  0.001297 -0.017410    0.0  0.003427  0.001943   \n",
       "2015-01-07  0.002734  0.005115  0.005364  0.013289    0.0  0.009907  0.007864   \n",
       "2015-01-08 -0.006749  0.009994  0.009636  0.000000    0.0  0.010901  0.008193   \n",
       "\n",
       "                 LEA     TYIDF     VLEEF   average  \n",
       "Date                                                \n",
       "2015-01-02       NaN       NaN       NaN       NaN  \n",
       "2015-01-05 -0.008682  0.000000  0.000000 -0.006898  \n",
       "2015-01-06  0.004964  0.000000  0.000000  0.000199  \n",
       "2015-01-07  0.013138 -0.030624 -0.040145 -0.001336  \n",
       "2015-01-08  0.004800  0.000000  0.000000  0.003678  "
      ]
     },
     "execution_count": 55,
     "metadata": {},
     "output_type": "execute_result"
    }
   ],
   "source": [
    "df2.head()"
   ]
  },
  {
   "cell_type": "code",
   "execution_count": 56,
   "metadata": {
    "collapsed": true
   },
   "outputs": [],
   "source": [
    "# Deviation\n",
    "df3 = df2.sub(df2[\"average\"], axis=0)"
   ]
  },
  {
   "cell_type": "code",
   "execution_count": 57,
   "metadata": {
    "collapsed": false
   },
   "outputs": [
    {
     "data": {
      "text/html": [
       "<div>\n",
       "<table border=\"1\" class=\"dataframe\">\n",
       "  <thead>\n",
       "    <tr style=\"text-align: right;\">\n",
       "      <th></th>\n",
       "      <th>ALV</th>\n",
       "      <th>BWA</th>\n",
       "      <th>DLPH</th>\n",
       "      <th>DNZOF</th>\n",
       "      <th>FURCF</th>\n",
       "      <th>GNTX</th>\n",
       "      <th>JCI</th>\n",
       "      <th>LEA</th>\n",
       "      <th>TYIDF</th>\n",
       "      <th>VLEEF</th>\n",
       "      <th>average</th>\n",
       "    </tr>\n",
       "    <tr>\n",
       "      <th>Date</th>\n",
       "      <th></th>\n",
       "      <th></th>\n",
       "      <th></th>\n",
       "      <th></th>\n",
       "      <th></th>\n",
       "      <th></th>\n",
       "      <th></th>\n",
       "      <th></th>\n",
       "      <th></th>\n",
       "      <th></th>\n",
       "      <th></th>\n",
       "    </tr>\n",
       "  </thead>\n",
       "  <tbody>\n",
       "    <tr>\n",
       "      <th>2015-01-02</th>\n",
       "      <td>NaN</td>\n",
       "      <td>NaN</td>\n",
       "      <td>NaN</td>\n",
       "      <td>NaN</td>\n",
       "      <td>NaN</td>\n",
       "      <td>NaN</td>\n",
       "      <td>NaN</td>\n",
       "      <td>NaN</td>\n",
       "      <td>NaN</td>\n",
       "      <td>NaN</td>\n",
       "      <td>NaN</td>\n",
       "    </tr>\n",
       "    <tr>\n",
       "      <th>2015-01-05</th>\n",
       "      <td>-0.005373</td>\n",
       "      <td>0.002514</td>\n",
       "      <td>-0.003709</td>\n",
       "      <td>-0.008107</td>\n",
       "      <td>0.006898</td>\n",
       "      <td>-0.004256</td>\n",
       "      <td>0.000023</td>\n",
       "      <td>-0.001784</td>\n",
       "      <td>0.006898</td>\n",
       "      <td>0.006898</td>\n",
       "      <td>0.0</td>\n",
       "    </tr>\n",
       "    <tr>\n",
       "      <th>2015-01-06</th>\n",
       "      <td>0.003810</td>\n",
       "      <td>0.003563</td>\n",
       "      <td>0.001097</td>\n",
       "      <td>-0.017609</td>\n",
       "      <td>-0.000199</td>\n",
       "      <td>0.003227</td>\n",
       "      <td>0.001744</td>\n",
       "      <td>0.004764</td>\n",
       "      <td>-0.000199</td>\n",
       "      <td>-0.000199</td>\n",
       "      <td>0.0</td>\n",
       "    </tr>\n",
       "    <tr>\n",
       "      <th>2015-01-07</th>\n",
       "      <td>0.004070</td>\n",
       "      <td>0.006450</td>\n",
       "      <td>0.006700</td>\n",
       "      <td>0.014625</td>\n",
       "      <td>0.001336</td>\n",
       "      <td>0.011243</td>\n",
       "      <td>0.009200</td>\n",
       "      <td>0.014474</td>\n",
       "      <td>-0.029288</td>\n",
       "      <td>-0.038809</td>\n",
       "      <td>0.0</td>\n",
       "    </tr>\n",
       "    <tr>\n",
       "      <th>2015-01-08</th>\n",
       "      <td>-0.010427</td>\n",
       "      <td>0.006317</td>\n",
       "      <td>0.005959</td>\n",
       "      <td>-0.003678</td>\n",
       "      <td>-0.003678</td>\n",
       "      <td>0.007223</td>\n",
       "      <td>0.004516</td>\n",
       "      <td>0.001123</td>\n",
       "      <td>-0.003678</td>\n",
       "      <td>-0.003678</td>\n",
       "      <td>0.0</td>\n",
       "    </tr>\n",
       "  </tbody>\n",
       "</table>\n",
       "</div>"
      ],
      "text/plain": [
       "                 ALV       BWA      DLPH     DNZOF     FURCF      GNTX  \\\n",
       "Date                                                                     \n",
       "2015-01-02       NaN       NaN       NaN       NaN       NaN       NaN   \n",
       "2015-01-05 -0.005373  0.002514 -0.003709 -0.008107  0.006898 -0.004256   \n",
       "2015-01-06  0.003810  0.003563  0.001097 -0.017609 -0.000199  0.003227   \n",
       "2015-01-07  0.004070  0.006450  0.006700  0.014625  0.001336  0.011243   \n",
       "2015-01-08 -0.010427  0.006317  0.005959 -0.003678 -0.003678  0.007223   \n",
       "\n",
       "                 JCI       LEA     TYIDF     VLEEF  average  \n",
       "Date                                                         \n",
       "2015-01-02       NaN       NaN       NaN       NaN      NaN  \n",
       "2015-01-05  0.000023 -0.001784  0.006898  0.006898      0.0  \n",
       "2015-01-06  0.001744  0.004764 -0.000199 -0.000199      0.0  \n",
       "2015-01-07  0.009200  0.014474 -0.029288 -0.038809      0.0  \n",
       "2015-01-08  0.004516  0.001123 -0.003678 -0.003678      0.0  "
      ]
     },
     "execution_count": 57,
     "metadata": {},
     "output_type": "execute_result"
    }
   ],
   "source": [
    "df3.head()"
   ]
  },
  {
   "cell_type": "code",
   "execution_count": 58,
   "metadata": {
    "collapsed": true
   },
   "outputs": [],
   "source": [
    "# Allocation\n",
    "df4 = -df3\n",
    "del df4[\"average\"]"
   ]
  },
  {
   "cell_type": "code",
   "execution_count": 59,
   "metadata": {
    "collapsed": true
   },
   "outputs": [],
   "source": [
    "df5 = df[\"Close\"] / df[\"Open\"] - 1"
   ]
  },
  {
   "cell_type": "code",
   "execution_count": 60,
   "metadata": {
    "collapsed": false
   },
   "outputs": [],
   "source": [
    "# calculate returns\n",
    "df6 = df5*df4"
   ]
  },
  {
   "cell_type": "code",
   "execution_count": 61,
   "metadata": {
    "collapsed": false
   },
   "outputs": [
    {
     "data": {
      "text/html": [
       "<div>\n",
       "<table border=\"1\" class=\"dataframe\">\n",
       "  <thead>\n",
       "    <tr style=\"text-align: right;\">\n",
       "      <th></th>\n",
       "      <th>ALV</th>\n",
       "      <th>BWA</th>\n",
       "      <th>DLPH</th>\n",
       "      <th>DNZOF</th>\n",
       "      <th>FURCF</th>\n",
       "      <th>GNTX</th>\n",
       "      <th>JCI</th>\n",
       "      <th>LEA</th>\n",
       "      <th>TYIDF</th>\n",
       "      <th>VLEEF</th>\n",
       "    </tr>\n",
       "    <tr>\n",
       "      <th>Date</th>\n",
       "      <th></th>\n",
       "      <th></th>\n",
       "      <th></th>\n",
       "      <th></th>\n",
       "      <th></th>\n",
       "      <th></th>\n",
       "      <th></th>\n",
       "      <th></th>\n",
       "      <th></th>\n",
       "      <th></th>\n",
       "    </tr>\n",
       "  </thead>\n",
       "  <tbody>\n",
       "    <tr>\n",
       "      <th>2015-01-02</th>\n",
       "      <td>NaN</td>\n",
       "      <td>NaN</td>\n",
       "      <td>NaN</td>\n",
       "      <td>NaN</td>\n",
       "      <td>NaN</td>\n",
       "      <td>NaN</td>\n",
       "      <td>NaN</td>\n",
       "      <td>NaN</td>\n",
       "      <td>NaN</td>\n",
       "      <td>NaN</td>\n",
       "    </tr>\n",
       "    <tr>\n",
       "      <th>2015-01-05</th>\n",
       "      <td>0.005373</td>\n",
       "      <td>-0.002514</td>\n",
       "      <td>0.003709</td>\n",
       "      <td>0.008107</td>\n",
       "      <td>-0.006898</td>\n",
       "      <td>0.004256</td>\n",
       "      <td>-0.000023</td>\n",
       "      <td>0.001784</td>\n",
       "      <td>-0.006898</td>\n",
       "      <td>-0.006898</td>\n",
       "    </tr>\n",
       "    <tr>\n",
       "      <th>2015-01-06</th>\n",
       "      <td>-0.003810</td>\n",
       "      <td>-0.003563</td>\n",
       "      <td>-0.001097</td>\n",
       "      <td>0.017609</td>\n",
       "      <td>0.000199</td>\n",
       "      <td>-0.003227</td>\n",
       "      <td>-0.001744</td>\n",
       "      <td>-0.004764</td>\n",
       "      <td>0.000199</td>\n",
       "      <td>0.000199</td>\n",
       "    </tr>\n",
       "    <tr>\n",
       "      <th>2015-01-07</th>\n",
       "      <td>-0.004070</td>\n",
       "      <td>-0.006450</td>\n",
       "      <td>-0.006700</td>\n",
       "      <td>-0.014625</td>\n",
       "      <td>-0.001336</td>\n",
       "      <td>-0.011243</td>\n",
       "      <td>-0.009200</td>\n",
       "      <td>-0.014474</td>\n",
       "      <td>0.029288</td>\n",
       "      <td>0.038809</td>\n",
       "    </tr>\n",
       "    <tr>\n",
       "      <th>2015-01-08</th>\n",
       "      <td>0.010427</td>\n",
       "      <td>-0.006317</td>\n",
       "      <td>-0.005959</td>\n",
       "      <td>0.003678</td>\n",
       "      <td>0.003678</td>\n",
       "      <td>-0.007223</td>\n",
       "      <td>-0.004516</td>\n",
       "      <td>-0.001123</td>\n",
       "      <td>0.003678</td>\n",
       "      <td>0.003678</td>\n",
       "    </tr>\n",
       "  </tbody>\n",
       "</table>\n",
       "</div>"
      ],
      "text/plain": [
       "                 ALV       BWA      DLPH     DNZOF     FURCF      GNTX  \\\n",
       "Date                                                                     \n",
       "2015-01-02       NaN       NaN       NaN       NaN       NaN       NaN   \n",
       "2015-01-05  0.005373 -0.002514  0.003709  0.008107 -0.006898  0.004256   \n",
       "2015-01-06 -0.003810 -0.003563 -0.001097  0.017609  0.000199 -0.003227   \n",
       "2015-01-07 -0.004070 -0.006450 -0.006700 -0.014625 -0.001336 -0.011243   \n",
       "2015-01-08  0.010427 -0.006317 -0.005959  0.003678  0.003678 -0.007223   \n",
       "\n",
       "                 JCI       LEA     TYIDF     VLEEF  \n",
       "Date                                                \n",
       "2015-01-02       NaN       NaN       NaN       NaN  \n",
       "2015-01-05 -0.000023  0.001784 -0.006898 -0.006898  \n",
       "2015-01-06 -0.001744 -0.004764  0.000199  0.000199  \n",
       "2015-01-07 -0.009200 -0.014474  0.029288  0.038809  \n",
       "2015-01-08 -0.004516 -0.001123  0.003678  0.003678  "
      ]
     },
     "execution_count": 61,
     "metadata": {},
     "output_type": "execute_result"
    }
   ],
   "source": [
    "df4.head()"
   ]
  },
  {
   "cell_type": "code",
   "execution_count": 62,
   "metadata": {
    "collapsed": true
   },
   "outputs": [],
   "source": [
    "# Total Returns\n",
    "df7 = df6.sum(axis=1)\n",
    "total_rtn = df6.sum(axis=1)\n",
    "total_allot = df4.sum(axis=1)"
   ]
  },
  {
   "cell_type": "code",
   "execution_count": 63,
   "metadata": {
    "collapsed": false
   },
   "outputs": [
    {
     "data": {
      "text/plain": [
       "<matplotlib.axes._subplots.AxesSubplot at 0x1de9de10>"
      ]
     },
     "execution_count": 63,
     "metadata": {},
     "output_type": "execute_result"
    },
    {
     "data": {
      "image/png": "[encoded data removed]",
      "text/plain": [
       "<matplotlib.figure.Figure at 0x1dea90f0>"
      ]
     },
     "metadata": {},
     "output_type": "display_data"
    }
   ],
   "source": [
    "total_rtn.cumsum().plot()"
   ]
  },
  {
   "cell_type": "code",
   "execution_count": 64,
   "metadata": {
    "collapsed": false
   },
   "outputs": [
    {
     "data": {
      "text/plain": [
       "<matplotlib.axes._subplots.AxesSubplot at 0x1edeeda0>"
      ]
     },
     "execution_count": 64,
     "metadata": {},
     "output_type": "execute_result"
    },
    {
     "data": {
      "image/png": "[encoded data removed]",
      "text/plain": [
       "<matplotlib.figure.Figure at 0x1de17898>"
      ]
     },
     "metadata": {},
     "output_type": "display_data"
    }
   ],
   "source": [
    "total_allot.plot()"
   ]
  },
  {
   "cell_type": "code",
   "execution_count": 65,
   "metadata": {
    "collapsed": false
   },
   "outputs": [
    {
     "name": "stdout",
     "output_type": "stream",
     "text": [
      "Sharpe Ratio = 3.13449224065\n"
     ]
    }
   ],
   "source": [
    "print \"Sharpe Ratio = \" + str(np.sqrt(250)*total_rtn.mean()/total_rtn.std())\n"
   ]
  },
  {
   "cell_type": "markdown",
   "metadata": {
    "collapsed": true
   },
   "source": [
    "Note the leverage applied."
   ]
  },
  {
   "cell_type": "code",
   "execution_count": 66,
   "metadata": {
    "collapsed": false
   },
   "outputs": [
    {
     "data": {
      "text/plain": [
       "count    2.750000e+02\n",
       "mean    -2.195325e-19\n",
       "std      4.603686e-18\n",
       "min     -2.775558e-17\n",
       "25%     -1.301043e-18\n",
       "50%      0.000000e+00\n",
       "75%      1.084202e-18\n",
       "max      2.775558e-17\n",
       "dtype: float64"
      ]
     },
     "execution_count": 66,
     "metadata": {},
     "output_type": "execute_result"
    }
   ],
   "source": [
    "total_allot.describe()"
   ]
  },
  {
   "cell_type": "markdown",
   "metadata": {},
   "source": [
    "**End of Lesson**"
   ]
  }
 ],
 "metadata": {
  "kernelspec": {
   "display_name": "Python 2",
   "language": "python",
   "name": "python2"
  },
  "language_info": {
   "codemirror_mode": {
    "name": "ipython",
    "version": 2
   },
   "file_extension": ".py",
   "mimetype": "text/x-python",
   "name": "python",
   "nbconvert_exporter": "python",
   "pygments_lexer": "ipython2",
   "version": "2.7.11"
  }
 },
 "nbformat": 4,
 "nbformat_minor": 0
}
